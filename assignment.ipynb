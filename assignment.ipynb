{
 "cells": [
  {
   "cell_type": "markdown",
   "id": "129f793d",
   "metadata": {},
   "source": [
    "Exercise 2 - Create a markdown cell with the title of the notebook"
   ]
  },
  {
   "cell_type": "markdown",
   "id": "8d61c6d4",
   "metadata": {},
   "source": [
    "# Peer-graded Assignment"
   ]
  },
  {
   "cell_type": "markdown",
   "id": "476908bd",
   "metadata": {},
   "source": [
    "Exercise 3 - Create a markdown cell for an introduction"
   ]
  },
  {
   "cell_type": "markdown",
   "id": "8dc950f2",
   "metadata": {},
   "source": [
    "### Introduction \n",
    "\n",
    "This is a peer graded assignment after completing of 5 weeks of **Tools for Data Science Course.** "
   ]
  },
  {
   "cell_type": "markdown",
   "id": "8b98689c",
   "metadata": {},
   "source": [
    "Exercise 4 - Create a markdown cell to list data science languages"
   ]
  },
  {
   "cell_type": "markdown",
   "id": "0560b99a",
   "metadata": {},
   "source": [
    "### Ordered List for Data Science Languages\n",
    "\n",
    "1. Python\n",
    "2. R\n",
    "3. SQL\n",
    "4. Scala\n",
    "5. Java\n",
    "6. C++\n",
    "7. Julia\n",
    "8. JavaScript\n",
    "9. PHP\n",
    "10. Go \n",
    "11. Ruby\n",
    "12. Visual Basic \n",
    "\n",
    "### Unordered List for Data Science Languages\n",
    "\n",
    "- Python\n",
    "- R\n",
    "- SQL\n",
    "- Scala\n",
    "- Java\n",
    "- C++\n",
    "- Julia\n",
    "- JavaScript\n",
    "- PHP\n",
    "- Go \n",
    "- Ruby\n",
    "- Visual Basic "
   ]
  },
  {
   "cell_type": "markdown",
   "id": "6ea89526",
   "metadata": {},
   "source": [
    "Exercise 5 - Create a markdown cell to list data science libraries"
   ]
  },
  {
   "cell_type": "markdown",
   "id": "2de0343f",
   "metadata": {},
   "source": [
    "### Unordered list of Data Science Libraries\n",
    "\n",
    "- Pandas\n",
    "- NumPy\n",
    "- Matplotlib\n",
    "- Seaborn\n",
    "- Scikit-learn \n",
    "- Keras\n",
    "- TensorFlow\n",
    "- PyTorch \n",
    "- Vegas\n",
    "- BigBL\n",
    "- ggplot2"
   ]
  },
  {
   "cell_type": "markdown",
   "id": "7fe837d5",
   "metadata": {},
   "source": [
    "Exercise 6 - Create a markdown cell with a table of Data Science tools"
   ]
  },
  {
   "cell_type": "markdown",
   "id": "e145f076",
   "metadata": {},
   "source": [
    "### A Table of Data Science Tools\n",
    "\n",
    "| Category | Data Science Tools |\n",
    "| -------- | ------------------ |\n",
    "| Data Management Tools | MySQL, PostgreSQL, MongoDB, Apache CouchDB, Apache Cassandra, Hadoop File System, Ceph, and Elastic search |\n",
    "| Data Integration and Transformation Tools | Apache AirFlow, KubeFlow, Apache Kafka, Apache Nifi, Apache SparkSQL, and NodeRED |\n",
    "| Data Visualization Tools | Pixie Dust, Hue, Kibana, and Apache Superset |\n",
    "| Model Deployment Tools | Apache PredictionIO, Seldon, Kubernetes, Redhat OpenShift, Mleap, TensorFlow service, TensorFlow lite, and TensorFlow dot JS | \n",
    "| Model Monitoring Tools | ModelDB, Prometheus, IBM AI Fairness 360, IBM Adversarial Robustness 360 Toolbox, and IBM AI Explainability 360 | \n",
    "| Code Asset Management Tools | Git, GitHub, GitLab, and Bitbucket. And finally, data asset management tools are Apache Atlas, ODPi Egeria, and Kylo | "
   ]
  },
  {
   "cell_type": "markdown",
   "id": "c2f6d85d",
   "metadata": {},
   "source": [
    "Exercise 7 - Create a markdown cell introducing arithmetic expression examples"
   ]
  },
  {
   "cell_type": "markdown",
   "id": "33c29f1d",
   "metadata": {},
   "source": [
    "### Introduction to Arithmetic Expressions\n",
    "\n",
    "Examples: \n",
    "1. (5 + 10) * 2  = 30\n",
    "2. (7 * 6 ) - 10 = 32"
   ]
  },
  {
   "cell_type": "markdown",
   "id": "3e785cb3",
   "metadata": {},
   "source": [
    "Exercise 8 - Create a code cell to multiply and add numbers"
   ]
  },
  {
   "cell_type": "code",
   "execution_count": 1,
   "id": "2dc44571",
   "metadata": {},
   "outputs": [
    {
     "data": {
      "text/plain": [
       "14"
      ]
     },
     "execution_count": 1,
     "metadata": {},
     "output_type": "execute_result"
    }
   ],
   "source": [
    "(5 * 2) + 4"
   ]
  },
  {
   "cell_type": "code",
   "execution_count": 2,
   "id": "ad3b651d",
   "metadata": {},
   "outputs": [
    {
     "data": {
      "text/plain": [
       "98"
      ]
     },
     "execution_count": 2,
     "metadata": {},
     "output_type": "execute_result"
    }
   ],
   "source": [
    "(4 + 10 ) * 7 "
   ]
  },
  {
   "cell_type": "code",
   "execution_count": 3,
   "id": "e2938ca3",
   "metadata": {},
   "outputs": [
    {
     "data": {
      "text/plain": [
       "104"
      ]
     },
     "execution_count": 3,
     "metadata": {},
     "output_type": "execute_result"
    }
   ],
   "source": [
    "(4*2)+(12*8)"
   ]
  },
  {
   "cell_type": "markdown",
   "id": "34eb1f85",
   "metadata": {},
   "source": [
    "Exercise 9 - Create a code cell to convert minutes to hours"
   ]
  },
  {
   "cell_type": "code",
   "execution_count": 6,
   "id": "4fb494ec",
   "metadata": {},
   "outputs": [
    {
     "name": "stdout",
     "output_type": "stream",
     "text": [
      "Enter number of minutes: 125\n"
     ]
    }
   ],
   "source": [
    "#code to convert given minutes to hours and remaining minutes will be displayed\n",
    "minutes = input(\"Enter number of minutes: \")"
   ]
  },
  {
   "cell_type": "code",
   "execution_count": 7,
   "id": "8781bf3d",
   "metadata": {},
   "outputs": [
    {
     "name": "stdout",
     "output_type": "stream",
     "text": [
      "Converting 125 minutes to hours: \n",
      "125 minutes equals 2 hours and 5 minutes that is 2.08 hours\n"
     ]
    }
   ],
   "source": [
    "h = int(minutes)/60 \n",
    "m = int(minutes)%60 \n",
    "hours = int(h) + (m/60)\n",
    "print(\"Converting\", minutes,\"minutes to hours: \")\n",
    "print(minutes, \"minutes equals\" ,int(h), \"hours and\", m, \"minutes that is\", round(hours, 2), \"hours\")\n"
   ]
  },
  {
   "cell_type": "markdown",
   "id": "7bd26329",
   "metadata": {},
   "source": [
    "Exercise 10 -Insert a markdown cell to list Objectives"
   ]
  },
  {
   "cell_type": "markdown",
   "id": "94e52fb1",
   "metadata": {},
   "source": [
    "### Objectives\n",
    "\n",
    "1. Title of the notebook\n",
    "2. Introduction\n",
    "3. List of data science languages\n",
    "4. List of Data Science Libraries\n",
    "5. A Table of Data Science Tools\n",
    "6. Introduction to Arithmetic Expressions\n",
    "7. Multiply and add numbers\n",
    "8. Convert minutes to hours\n"
   ]
  },
  {
   "cell_type": "markdown",
   "id": "56c9a892",
   "metadata": {},
   "source": [
    "Exercise 11 - Create a markdown cell to indicate the Author’s name"
   ]
  },
  {
   "cell_type": "markdown",
   "id": "1ee5c80c",
   "metadata": {},
   "source": [
    "##### Author: Krishna Dharmeshkumar Gandhi"
   ]
  },
  {
   "cell_type": "markdown",
   "id": "88a37bf5",
   "metadata": {},
   "source": [
    "Exercise 12 - Share your notebook through GitHub"
   ]
  },
  {
   "cell_type": "markdown",
   "id": "ae27af6b",
   "metadata": {},
   "source": [
    "[Github]() "
   ]
  }
 ],
 "metadata": {
  "kernelspec": {
   "display_name": "Python 3 (ipykernel)",
   "language": "python",
   "name": "python3"
  },
  "language_info": {
   "codemirror_mode": {
    "name": "ipython",
    "version": 3
   },
   "file_extension": ".py",
   "mimetype": "text/x-python",
   "name": "python",
   "nbconvert_exporter": "python",
   "pygments_lexer": "ipython3",
   "version": "3.11.5"
  }
 },
 "nbformat": 4,
 "nbformat_minor": 5
}
